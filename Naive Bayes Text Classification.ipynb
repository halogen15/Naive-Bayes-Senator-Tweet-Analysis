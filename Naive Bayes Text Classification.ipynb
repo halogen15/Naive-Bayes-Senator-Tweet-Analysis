{
 "cells": [
  {
   "cell_type": "markdown",
   "metadata": {},
   "source": [
    "# Machine Learning  - Naive Bayes for Text Classification"
   ]
  },
  {
   "cell_type": "markdown",
   "metadata": {},
   "source": [
    "This is a fun little project comparing the tweets of U.S. Senators running for president in 2020.  The tweets are a small sample from spring 2019.  Many of the topics are the same, but each Senator also tweeted about state-specific news.  Their styles of writing differed in length, directness, and tone.  Let's see how a very simple naive bayes classifier handles it."
   ]
  },
  {
   "cell_type": "code",
   "execution_count": 1,
   "metadata": {},
   "outputs": [],
   "source": [
    "import numpy as np\n",
    "import pandas as pd\n",
    "import os\n",
    "from os import listdir\n",
    "from os.path import isfile, join\n",
    "import re\n",
    "import itertools\n",
    "import sklearn\n",
    "from sklearn.model_selection import train_test_split\n",
    "from sklearn.feature_extraction.text import CountVectorizer\n",
    "from sklearn.naive_bayes import MultinomialNB\n",
    "import nltk\n",
    "from nltk.tokenize import TreebankWordTokenizer\n",
    "from nltk.stem import WordNetLemmatizer"
   ]
  },
  {
   "cell_type": "markdown",
   "metadata": {},
   "source": [
    "### Import data"
   ]
  },
  {
   "cell_type": "code",
   "execution_count": 2,
   "metadata": {},
   "outputs": [],
   "source": [
    "path = \"c:/Users/h_lig/Documents/Data Science Classes/GitHub Projects/Senator Tweets Naive Bayes/\"\n",
    "\n",
    "#List file names\n",
    "files = [f for f in listdir(path) if isfile(join(path, f))]\n",
    "\n",
    "#Create hash\n",
    "tweets_hash = dict.fromkeys(files)\n",
    "\n",
    "for file in files:\n",
    "    filetext = open(path + file, \"r\", encoding='utf-8', errors='ignore').read()\n",
    "    tweets_hash[file]  = filetext"
   ]
  },
  {
   "cell_type": "code",
   "execution_count": 3,
   "metadata": {},
   "outputs": [
    {
     "data": {
      "text/plain": [
       "dict_keys(['SenBooker.txt', 'SenGillibrand.txt', 'SenHarris.txt', 'SenKlobuchar.txt', 'SenSanders.txt', 'SenWarren.txt'])"
      ]
     },
     "execution_count": 3,
     "metadata": {},
     "output_type": "execute_result"
    }
   ],
   "source": [
    "tweets_hash.keys()"
   ]
  },
  {
   "cell_type": "markdown",
   "metadata": {},
   "source": [
    "### Parse Data into Lists\n",
    "\n",
    "Each tweet becomes an item in a list of all the tweets.  Who said each tweet is saved in a separate list."
   ]
  },
  {
   "cell_type": "code",
   "execution_count": 4,
   "metadata": {},
   "outputs": [],
   "source": [
    "# Create class for parsing text files by tweet\n",
    "class parser(): \n",
    "    \n",
    "    def listTweets(self, key):\n",
    "        twts = tweets_hash[key]\n",
    "        twts = twts.replace('\\xa0', '')\n",
    "        twt_list = twts.split(\"\\n\\n\")\n",
    "        twt_author = key.replace('.txt', '')\n",
    "        namelist = list(itertools.repeat(twt_author, len(twt_list)))\n",
    "        return(twt_list, namelist)"
   ]
  },
  {
   "cell_type": "code",
   "execution_count": 5,
   "metadata": {},
   "outputs": [],
   "source": [
    "#Create parser object\n",
    "tweet_parse = parser()\n",
    "\n",
    "# Create list of tweets and list of tweeters\n",
    "tweetslist = []\n",
    "whosaidlist = []\n",
    "for key in tweets_hash.keys():\n",
    "    parsedtweets, author = tweet_parse.listTweets(key)\n",
    "    tweetslist.extend(parsedtweets)\n",
    "    whosaidlist.extend(author)"
   ]
  },
  {
   "cell_type": "markdown",
   "metadata": {},
   "source": [
    "### Example of pre-processed tweet and who said it"
   ]
  },
  {
   "cell_type": "code",
   "execution_count": 6,
   "metadata": {},
   "outputs": [
    {
     "data": {
      "text/plain": [
       "'On #NationalVoterRegistrationDay please check your registration, confirm that your information is up to date & make a commitment to cast your ballot on November 6th.'"
      ]
     },
     "execution_count": 6,
     "metadata": {},
     "output_type": "execute_result"
    }
   ],
   "source": [
    "tweetslist[10]"
   ]
  },
  {
   "cell_type": "code",
   "execution_count": 7,
   "metadata": {},
   "outputs": [
    {
     "data": {
      "text/plain": [
       "'SenBooker'"
      ]
     },
     "execution_count": 7,
     "metadata": {},
     "output_type": "execute_result"
    }
   ],
   "source": [
    "whosaidlist[10]"
   ]
  },
  {
   "cell_type": "markdown",
   "metadata": {},
   "source": [
    "### Prepare target vector"
   ]
  },
  {
   "cell_type": "code",
   "execution_count": 8,
   "metadata": {},
   "outputs": [],
   "source": [
    "labels = ['SenBooker', 'SenGillibrand', 'SenHarris', 'SenKlobuchar', 'SenSanders', 'SenWarren']"
   ]
  },
  {
   "cell_type": "code",
   "execution_count": 9,
   "metadata": {},
   "outputs": [
    {
     "data": {
      "text/plain": [
       "457"
      ]
     },
     "execution_count": 9,
     "metadata": {},
     "output_type": "execute_result"
    }
   ],
   "source": [
    "target = []\n",
    "\n",
    "for s in whosaidlist:\n",
    "    if s == 'SenBooker':\n",
    "        t = 0\n",
    "    if s == 'SenGillibrand':\n",
    "        t = 1\n",
    "    if s == 'SenHarris':\n",
    "        t = 2\n",
    "    if s == 'SenKlobuchar':\n",
    "        t = 3    \n",
    "    if s == 'SenSanders':\n",
    "        t = 4\n",
    "    if s == 'SenWarren':\n",
    "        t = 5 \n",
    "    target.append(t)\n",
    "    \n",
    "len(target)\n",
    "# We should have 457 target values. "
   ]
  },
  {
   "cell_type": "markdown",
   "metadata": {},
   "source": [
    "### Vectorize the Tweets"
   ]
  },
  {
   "cell_type": "markdown",
   "metadata": {},
   "source": [
    "Create a document-term frequency matrix where each row is a tweet"
   ]
  },
  {
   "cell_type": "code",
   "execution_count": 10,
   "metadata": {},
   "outputs": [],
   "source": [
    "# Initialize the vector\n",
    "# Also set some parameters for the vectorizer.  I am using the nltk package to provide better removal of stop words\n",
    "ntlk_stop_words = nltk.corpus.stopwords.words('english')\n",
    "vectorizer = CountVectorizer(stop_words=ntlk_stop_words)\n",
    "\n",
    "# Fit and transform the tweets into the matrix\n",
    "tfmatrix = vectorizer.fit_transform(tweetslist)"
   ]
  },
  {
   "cell_type": "markdown",
   "metadata": {},
   "source": [
    "We can print the vocabulary that shows the numerical value associated with each word, although it is not necessary."
   ]
  },
  {
   "cell_type": "code",
   "execution_count": 11,
   "metadata": {},
   "outputs": [
    {
     "name": "stdout",
     "output_type": "stream",
     "text": [
      "{'mr': 2020, 'president': 2320, 'enough': 1090, 'supreme': 2999, 'court': 777, 'nomination': 2076, 'worth': 3374, 'lives': 1819, 'survivors': 3005, 'must': 2031, 'full': 1312, 'investigation': 1632, 'allegations': 188, 'criminal': 791, 'behavior': 362, 'judge': 1681, 'kavanaugh': 1695, 'withdrawn': 3350, 'thank': 3064, 'denzel': 883, 'stopping': 2944, 'senate': 2730, 'today': 3095, 'advocate': 153, 'boys': 433, 'girls': 1349, 'club': 623, 'feels': 1214, 'good': 1367, 'share': 2790, 'laugh': 1747, 'work': 3363, 'behalf': 361, 'nation': 2038, 'kids': 1705, 'scheduling': 2684, 'vote': 3267, 'dr': 992, 'ford': 1277, 'even': 1119, 'testified': 3059, 'republican': 2543, 'leaders': 1760, 'saying': 2676, 'loud': 1844, 'clear': 613, 'care': 507, 'says': 2677, 'believesurvivors': 368, 'consequential': 712, 'election': 1045, 'lifetime': 1798, 'quickly': 2421, 'approaching': 249, 'afford': 161, 'anyone': 232, 'stay': 2930, 'sidelines': 2817, 'make': 1863, 'sure': 3000, 'registered': 2498, 'nationalvoterregistrationday': 2043, 'reminder': 2518, 'trump': 3159, 'administration': 143, 'still': 2936, 'yet': 3392, 'reunite': 2582, 'children': 583, 'tore': 3107, 'away': 306, 'families': 1188, 'heinous': 1460, 'policy': 2275, 'family': 1189, 'separation': 2760, 'congress': 706, 'immediately': 1539, 'pass': 2192, 'bipartisan': 391, 'bill': 384, 'protect': 2376, 'special': 2883, 'counsel': 763, 'avoid': 304, 'constitutional': 720, 'crisis': 793, 'already': 195, 'passed': 2193, 'judiciary': 1683, 'committee': 660, 'leadership': 1761, 'bring': 447, 'floor': 1260, 'introducing': 1627, 'mommies': 1999, 'act': 125, 'legislation': 1778, 'medicaid': 1922, 'coverage': 780, 'pregnant': 2312, 'postpartum': 2294, 'women': 3357, 'access': 107, 'support': 2992, 'services': 2772, 'pervasive': 2227, 'health': 1446, 'disparities': 960, 'time': 3090, 'provide': 2387, 'better': 377, 'maternity': 1897, 'another': 225, 'unacceptable': 3175, 'fact': 1171, 'black': 395, 'times': 3091, 'likely': 1801, 'die': 916, 'pregnancy': 2311, 'related': 2504, 'causes': 528, 'white': 3337, 'counterparts': 766, 'find': 1233, '2000': 22, '2014': 25, '26': 38, 'increase': 1572, 'maternal': 1896, 'mortality': 2010, 'rate': 2447, 'united': 3200, 'states': 2927, 'acceptable': 106, 'zero': 3398, 'goal': 1359, 'please': 2261, 'check': 571, 'registration': 2499, 'confirm': 699, 'information': 1585, 'date': 823, 'commitment': 657, 'cast': 519, 'ballot': 327, 'november': 2089, '6th': 72, 'passes': 2195, 'opioid': 2130, 'response': 2565, 'includes': 1566, 'corybooker': 756, 'senatormenendez': 2734, 'authored': 295, 'provisions': 2392, 'beacon': 350, 'hope': 1502, 'refugees': 2491, 'fleeing': 1258, 'terrible': 3055, 'conditions': 693, 'dreams': 998, 'life': 1796, 'systematically': 3020, 'crippling': 792, 'american': 210, 'refugee': 2490, 'program': 2357, 'deeply': 854, 'wrong': 3381, 'un': 3174, 'core': 744, 'hate': 1441, 'speech': 2887, 'anti': 228, 'semitism': 2728, 'place': 2241, 'new': 2066, 'jersey': 1661, 'political': 2276, 'discourse': 945, 'condemn': 691, '32': 44, 'senators': 2735, '97': 83, 'house': 1512, 'members': 1932, '252': 37, 'groups': 1404, 'agree': 179, 'government': 1376, 'spending': 2890, 'bills': 389, 'attacks': 286, 'imperiled': 1549, 'wildlife': 3343, 'stopextinction': 2942, 'nopoisonpills': 2080, 'levels': 1788, 'sexual': 2782, 'violence': 3252, 'harassment': 1431, 'come': 648, 'forward': 1287, 'treated': 3138, 'demonstrates': 877, 'level': 1787, 'addressing': 140, 'societal': 2855, 'us': 3220, 'senste': 2751, 'failing': 1175, 'rise': 2605, 'justly': 1692, 'deal': 830, 'credible': 787, 'accusation': 119, 'owes': 2171, 'every': 1124, 'survivor': 3004, 'trauma': 3134, 'gather': 1332, 'facts': 1172, 'moving': 2018, 'rush': 2644, 'appointment': 242, 'highest': 1478, 'brave': 435, 'face': 1164, 'intimidation': 1623, 'threats': 3083, 'safety': 2660, 'push': 2406, 'bully': 465, 'toward': 3113, 'artificial': 265, 'process': 2346, 'matters': 1901, 'defining': 860, 'moment': 1996, 'wow': 3377, 'blackexcellence': 397, 'congrats': 704, 'youngest': 3396, 'ever': 1122, 'win': 3345, 'egot': 1042, 'johnlegend': 1670, 'fallontonight': 1185, 'later': 1744, 'evening': 1120, 'tune': 3165, 'nbc': 2049, 'starting': 2921, '11': 7, '35': 46, '10': 1, '35c': 47, 'turn': 3166, 'volume': 3264, 'listen': 1813, 'aalayaheastmond': 87, 'powerful': 2301, 'testimony': 3062, 'experience': 1145, 'gun': 1413, 'parkland': 2183, 'brought': 455, 'tears': 3045, 'sitting': 2837, 'listening': 1814, 'story': 2950, 'brett': 443, 'grateful': 1385, 'senatedems': 2731, 'colleagues': 634, 'stood': 2940, 'demand': 868, 'docs': 973, 'released': 2506, 'public': 2396, 'weds': 3318, 'broke': 451, 'rules': 2638, 'reading': 2455, 'confidential': 698, 'thurs': 3086, 'cornyn': 746, 'threatened': 3080, 'expulsion': 1155, 'changed': 559, 'backtracked': 313, 'back': 310, 'threatening': 3081, 'ethics': 1117, 'exposed': 1153, 'sham': 2786, 'several': 2778, 'documents': 977, 'judiciarydems': 1684, 'previously': 2326, 'hidden': 1473, 'view': 3243, 'continue': 727, 'release': 2505, 'draw': 995, 'attention': 290, 'two': 3172, 'additional': 138, 'school': 2687, 'busing': 475, 'affirmative': 160, 'action': 127, 'enacting': 1068, 'laws': 1756, 'country': 771, 'designed': 897, 'disenfranchise': 951, 'voters': 3270, 'voting': 3272, 'rights': 2602, 'curtail': 804, 'discriminatory': 948, 'go': 1358, 'effect': 1036, 'senbooker': 2738, 'stopkavanaugh': 2943, 'nominee': 2077, 'proud': 2384, 'career': 509, 'nothing': 2084, 'hide': 1474, 'allowed': 192, 'see': 2717, '90': 80, 'record': 2475, 'deserves': 894, 'scotus': 2695, 'cory': 755, 'booker': 419, 'cannot': 499, 'body': 414, 'also': 196, 'perverse': 2228, 'comes': 649, 'wait': 3278, 'waiting': 3279, 'object': 2098, 'via': 3239, 'cbs': 530, 'announcing': 224, 'million': 1958, 'nj': 2075, 'firefighters': 1241, 'wins': 3347, 'easy': 1029, 'worked': 3364, 'hard': 1432, 'keep': 1696, 'funding': 1319, 'first': 1245, 'responders': 2564, 'chopping': 588, 'block': 408, 'know': 1717, 'fight': 1226, 'proposal': 2368, 'undermines': 3186, 'heroic': 1468, 'john': 1669, 'mccain': 1909, 'warmly': 3298, 'welcomed': 3325, '13': 11, 'private': 2337, 'meeting': 1929, 'office': 2105, 'remains': 2515, 'inspiring': 1600, 'moments': 1997, 'senator': 2733, 'death': 832, 'may': 1905, 'end': 1071, 'never': 2064, 'love': 1845, 'loved': 1846, 'america': 209, 'impact': 1544, 'forever': 1279, 'endure': 1083, 'rip': 2603, 'absolutely': 103, 'disgraceful': 953, 'continues': 729, 'target': 3034, 'african': 168, 'nations': 2044, 'spread': 2899, 'racially': 2427, 'charged': 565, 'claims': 606, 'basis': 345, 'evidence': 1129, 'retreats': 2578, 'commitments': 658, 'leader': 1759, 'problem': 2340, 'signs': 2825, 'climate': 618, 'chsnge': 592, 'growing': 1406, 'seen': 2723, 'earth': 1026, 'corporate': 747, 'greed': 1393, 'looks': 1837, 'like': 1800, 'drug': 1006, 'company': 667, 'ceo': 544, 'bob': 412, 'hugin': 1516, 'raised': 2434, 'price': 2327, 'cancer': 495, 'three': 3084, 'one': 2118, 'year': 3385, 'knew': 1713, 'patients': 2200, 'choice': 586, 'pay': 2206, 'made': 1858, 'millions': 1959, 'paid': 2175, 'side': 2816, 'wishing': 3348, 'happy': 1429, 'birthday': 393, 'friend': 1305, 'montanawith': 2002, 'awesome': 307, 'flattop': 1255, 'serious': 2763, 'basketball': 346, 'skills': 2839, 'senatortester': 2736, 'rest': 2569, 'power': 2300, 'aretha': 258, 'franklin': 1294, 'voice': 3262, 'spirit': 2893, 'elevate': 1049, 'inspire': 1599, 'nourish': 2086, 'nurture': 2094, 'history': 1484, 'queenofsoul': 2417, 'pleased': 2262, 'join': 1672, 'va': 3229, 'officials': 2109, 'vineland': 3247, 'announce': 222, 'residency': 2553, 'rowanuniversity': 2629, 'unique': 3197, 'opportunity': 2133, 'southjersey': 2877, 'recruit': 2480, 'train': 3125, 'next': 2071, 'generation': 1338, 'students': 2965, 'complexity': 676, 'caring': 512, 'veterans': 3236, 'sensherrodbrown': 2750, 'sent': 2752, '22': 34, 'letters': 1786, 'friday': 1304, 'demanding': 870, 'answers': 227, 'biggest': 382, 'profiteers': 2354, 'money': 2001, 'bail': 321, 'system': 3019, 'insurance': 1603, 'companies': 665, 'corrupt': 753, 'business': 473, 'practices': 2305, 'reported': 2534, 'marshallproj': 1888, 'endmoneybail': 1079, 'nomoneybail': 2078, 'hundreds': 1520, 'need': 2054, 'reunited': 2583, 'parents': 2181, 'apart': 234, 'horrific': 1503, 'border': 423, 'wants': 3292, 'legal': 1774, 'immigrants': 1541, 'anniversary': 221, 'much': 2024, 'americans': 211, 'honor': 1498, 'legacy': 1773, 'landmark': 1735, 'exercising': 1138, 'democratic': 875, 'right': 2600, 'register': 2497, 'commit': 656, 'overdraft': 2157, 'fees': 1215, 'fall': 1183, 'least': 1766, 'able': 98, 'vulnerable': 3274, 'consumers': 723, 'financial': 1232, 'brink': 449, 'introduced': 1626, 'unfair': 3191, 'banking': 335, 'trap': 3133, 'many': 1872, 'vicious': 3240, 'cycle': 813, 'poverty': 2299, 'day': 826, 'interviewing': 1620, 'job': 1666, 'interviews': 1621, 'character': 562, 'counts': 772, 'past': 2197, 'actions': 128, 'matter': 1900, 'blasey': 403, 'testifies': 3060, 'across': 124, 'paying': 2208, 'believe': 366, 'sending': 2741, 'worst': 3373, 'message': 1944, 'possible': 2291, 'republicans': 2544, 'stop': 2941, 'charade': 563, 'value': 3232, 'thing': 3071, 'claim': 604, 'embarrassment': 1054, 'ignore': 1532, 'absolute': 102, 'disgrace': 952, 'allow': 191, 'experiences': 1146, 'second': 2707, 'man': 1867, 'promotion': 2365, 'shame': 2787, 'jobs': 1667, 'beginning': 360, 'confirmation': 700, 'inconvenience': 1571, 'together': 3097, 'show': 2811, 'stand': 2911, 'takes': 3029, 'secure': 2715, 'equality': 1105, 'pretending': 2322, 'consider': 713, 'rushing': 2645, 'sends': 2742, 'signal': 2822, 'recent': 2469, 'news': 2068, 'around': 264, 'difficult': 921, 'hear': 1448, 'take': 3026, 'look': 1835, 'resources': 2561, 'ones': 2119, 'laughed': 1748, 'world': 3371, 'stage': 2907, 'unga': 3193, 'disgracefully': 954, 'silenced': 2827, 'get': 1341, 'plan': 2247, 'voices': 3263, 'heard': 1449, 'accountability': 114, 'change': 558, 'progress': 2359, 'going': 1362, 'getting': 1344, 'use': 3222, 'link': 1810, 'fox': 1292, 'interview': 1619, 'fbi': 1205, 'really': 2460, 'fair': 1178, 'conduct': 695, 'establish': 1114, 'including': 1567, 'corroborating': 752, 'witnesses': 3355, 'step': 2931, 'mueller': 2025, 'people': 2216, 'deserve': 892, 'russian': 2647, 'interference': 1616, 'democracy': 873, 'raise': 2433, 'unison': 3198, 'unstoppable': 3210, 'force': 1273, 'let': 1785, 'fearless': 1210, 'fighting': 1228, 'current': 803, 'fueling': 1310, 'fear': 1209, 'hatred': 1442, 'forget': 1280, 'silent': 2828, 'beliefs': 365, 'means': 1916, 'speaking': 2882, 'long': 1832, 'others': 2146, 'try': 3161, 'heidi': 1458, 'point': 2269, 'polls': 2279, 'asking': 270, 'campaign': 489, 'help': 1462, 'shut': 2814, 'kevin': 1700, 'cramer': 781, 'race': 2424, 'control': 735, 'send': 2740, 'supports': 2995, 'assault': 273, 'someone': 2865, 'casually': 521, 'dismisses': 957, 'lose': 1839, 'woman': 3356, 'north': 2082, 'dakota': 818, 'decide': 842, 'closest': 622, 'heidiheitkamp': 1459, 'opponent': 2132, 'supported': 2993, 'unreasonable': 3208, 'require': 2547, 'perfect': 2219, 'justice': 1690, 'assaulted': 274, 'read': 2454, 'stories': 2948, 'sharing': 2794, 'using': 3225, 'whyididntreport': 3339, 'toxic': 3116, 'culture': 800, 'deserved': 893, 'incompetence': 1570, 'left': 1772, 'human': 1518, 'trafficking': 3121, 'abuse': 105, 'immediate': 1538, 'responsibility': 2566, 'ensure': 1091, 'last': 1742, 'weekends': 3321, 'nov': 2087, 'think': 3073, 'way': 3306, 'spend': 2889, 'saturday': 2668, 'sunday': 2989, 'afternoon': 171, 'knocking': 1715, 'doors': 986, 'making': 1865, 'phone': 2232, 'calls': 486, 'helping': 1464, 'elect': 1044, 'progressive': 2360, 'candidates': 497, 'running': 2642, 'srachelmay': 2901, 'primary': 2330, 'ny': 2095, '53rd': 65, 'state': 2923, 'district': 970, 'champion': 555, 'working': 3368, 'central': 541, 'great': 1391, 'partner': 2190, 'influence': 1583, 'dark': 821, 'politics': 2277, 'outdoors4all': 2148, 'communities': 663, 'build': 461, 'parks': 2184, 'playgrounds': 2256, 'outdoor': 2147, 'recreation': 2479, 'areas': 257, 'future': 1322, 'generations': 1339, 'enjoy': 1089, 'open': 2124, 'spaces': 2880, 'steps': 2933, 'announced': 223, '30': 41, 'less': 1783, '20': 21, 'hours': 1511, 'thursday': 3087, 'hearing': 1450, 'ends': 1082, 'little': 1816, 'chance': 556, 'contact': 724, 'weigh': 3323, 'implore': 1553, 'seriously': 2764, 'trial': 3143, 'determine': 906, 'whether': 3336, 'qualified': 2413, 'sit': 2836, 'hiring': 1482, 'attorney': 291, 'cross': 796, 'examine': 1132, 'trying': 3162, 'intimidate': 1622, 'held': 1461, 'accountable': 115, 'robert': 2614, 'voted': 3268, 'longer': 1833, 'preserving': 2319, 'rule': 2635, 'law': 1753, 'willing': 3344, 'testify': 3061, 'rejecting': 2503, 'reasonable': 2462, 'terms': 3054, 'setting': 2776, 'pm': 2266, 'ultimatum': 3173, 'meet': 1928, 'demands': 871, 'monday': 2000, 'blatant': 404, 'attempt': 287, 'said': 2661, 'earliest': 1021, 'could': 761, 'travel': 3135, 'move': 2015, 'wednesday': 3317, 'accommodate': 109, '24': 35, 'report': 2533, 'night': 2073, 'music': 2029, 'modernization': 1994, 'cosponsored': 758, 'update': 3215, 'licensing': 1793, 'artists': 266, 'songs': 2869, 'sen': 2729, 'harris': 1437, 'tells': 3050, 'federal': 1211, 'agencies': 174, 'facial': 1167, 'recognition': 2472, 'risks': 2610, 'july': 1687, 'official': 2107, 'called': 484, 'ice': 1528, 'detention': 904, 'facilities': 1168, 'summer': 2987, 'camps': 491, 'yesterday': 3391, 'asked': 269, 'would': 3376, 'chief': 580, 'staff': 2904, 'kelly': 1698, 'number': 2091, 'admit': 144, 'fooled': 1271, 'lowest': 1850, 'ceiling': 532, 'admittance': 145, 'since': 2833, 'created': 785, 'turning': 3168, 'persecution': 2224, 'oppression': 2136, 'abdicating': 93, 'moral': 2007, 'issue': 1648, 'misled': 1975, 'oath': 2096, 'line': 1807, 'disqualifying': 965, 'latest': 1745, 'op': 2123, 'ed': 1033, 'washingtonpost': 3302, 'keeping': 1697, 'killed': 1707, 'bakersfield': 324, 'prayers': 2306, 'enforcement': 1087, 'scene': 2682, 'remember': 2516, 'awful': 308, 'seventeen': 2777, 'years': 3388, 'ago': 178, 'faces': 1166, 'lost': 1841, 'sacrifice': 2652, 'heroism': 1469, 'police': 2273, 'officers': 2106, 'ran': 2441, 'harm': 1435, 'neverforget': 2065, 'troubling': 3155, 'takeaway': 3027, 'questioning': 2419, 'recuse': 2481, 'civil': 602, 'investigations': 1633, 'reach': 2452, 'abortion': 99, 'mississippi': 1981, 'roe': 2618, 'wade': 3275, 'overturned': 2167, 'banned': 338, 'specific': 2885, 'question': 2418, 'case': 517, 'marriage': 1886, 'land': 1734, 'correctly': 751, 'decided': 843, 'refused': 2492, 'answer': 226, 'believes': 367, 'correct': 750, 'sides': 2818, 'blame': 400, 'charlottesville': 568, 'torches': 3106, 'swastikas': 3007, 'kirstjen': 1712, 'nielsen': 2072, 'indefinitely': 1577, 'incarcerate': 1563, 'immigrant': 1540, 'essentially': 1113, 'prisons': 2336, 'apparently': 236, 'needs': 2056, 'cruel': 797, 'inhumane': 1588, 'lot': 1842, 'ignored': 1533, 'colleague': 633, 'nra': 2090, 'dollars': 979, 'pro': 2339, 'advertisements': 151, 'give': 1350, 'handshake': 1424, 'victims': 3241, 'shake': 2784, 'chairman': 551, 'grassley': 1384, 'pushing': 2408, 'despite': 899, '11th': 8, 'hour': 1509, 'document': 975, 'dump': 1015, '42': 53, '000': 0, 'stating': 2928, 'review': 2588, 'senwhitehouse': 2756, 'rightly': 2601, 'points': 2271, 'mean': 1914, 'pages': 2174, 'heartbroken': 1453, 'shooting': 2803, 'san': 2665, 'bernardino': 373, 'praying': 2307, 'injured': 1590, 'entire': 1094, 'community': 664, 'childbirth': 582, 'grants': 1383, 'implicit': 1552, 'bias': 379, 'training': 3126, 'incentivize': 1564, 'providers': 2389, 'deliver': 864, 'integrated': 1606, 'reduce': 2483, 'rates': 2448, 'racial': 2426, 'siding': 2819, 'polluters': 2280, 'instead': 1601, 'breathe': 441, 'clean': 611, 'air': 183, 'drink': 1001, 'water': 3305, 'represents': 2542, 'threat': 3079, 'environment': 1097, 'risked': 2609, 'contain': 725, 'fire': 1238, 'safe': 2656, 'simply': 2832, 'legend': 1777, 'felt': 1218, 'congressional': 707, 'gold': 1363, 'medal': 1920, 'mothers': 2013, 'real': 2457, 'impacts': 1547, 'walks': 3284, 'devastating': 907, 'consequences': 711, 'week': 3319, 'address': 139, 'listentoblackwomen': 1815, '63': 69, 'emmett': 1059, 'till': 3088, 'abducted': 95, 'men': 1935, 'brutally': 457, 'murdered': 2028, 'lynching': 1853, 'crime': 789, 'speak': 2881, 'uncomfortable': 3182, 'truth': 3160, 'symptoms': 3015, 'pain': 2176, 'doctor': 974, 'taken': 3028, 'begin': 359, 'biases': 380, 'permeate': 2223, 'medical': 1923, 'hurricane': 1523, 'maria': 1878, 'caused': 527, 'estimated': 1115, '975': 84, 'deaths': 833, '64': 70, 'failures': 1177, 'count': 765, 'procedures': 2343, 'accurate': 118, 'toll': 3099, 'natural': 2047, 'disaster': 937, 'words': 3362, 'king': 1710, 'spoke': 2895, 'carrying': 516, 'everything': 1126, 'fought': 1289, 'died': 917, 'talk': 3031, 'dangerous': 819, 'arming': 262, 'teachers': 3041, 'latino': 1746, 'specifically': 2886, 'overwhelming': 2168, 'shows': 2812, 'harsh': 1438, 'disciplinary': 941, 'protocols': 2383, 'schools': 2689, 'disproportionately': 963, 'color': 639, 'ideas': 1530, 'safer': 2659, 'background': 311, 'checks': 572, 'universal': 3201, 'data': 822, 'ban': 331, 'military': 1957, 'style': 2970, 'weapons': 3312, 'bump': 466, 'stocks': 2938, 'high': 1476, 'capacity': 501, 'magazines': 1859, 'minimum': 1963, 'age': 173, 'purchase': 2404, 'rifles': 2598, 'betsy': 375, 'devos': 913, 'funds': 1320, 'arm': 261, 'incredibly': 1576, 'idea': 1529, 'proposing': 2370, '2nd': 40, 'graders': 1379, 'supposed': 2996, 'blackboard': 396, 'teacher': 3040, 'strapped': 2951, 'unindicted': 3194, 'co': 625, 'conspirator': 716, 'holds': 1490, 'name': 2035, 'without': 3352, 'resolving': 2559, 'pointed': 2270, 'questions': 2420, 'changes': 560, 'well': 3328, 'outside': 2152, 'mainstream': 1860, 'threatens': 3082, 'protections': 2380, 'documentation': 976, 'immigration': 1542, 'affected': 158, 'california': 482, 'wildfires': 3342, 'uscis': 3221, '800': 76, '375': 48, '5283': 63, 'assist': 276, 'replacing': 2532, 'form': 1282, 'rescheduling': 2550, 'appointments': 243, 'unforeseen': 3192, 'circumstances': 596, 'russia': 2646, 'launch': 1749, 'fortify': 1286, 'elections': 1046, 'security': 2716, 'systems': 3021, 'tech': 3046, 'put': 2409, 'safeguards': 2657, 'detect': 903, 'flag': 1251, 'important': 1555, 'warning': 3299, 'directly': 931, 'impacted': 1545, 'particulate': 2189, 'fires': 1242, 'precautions': 2309, 'wearing': 3314, 'mask': 1890, 'minimizing': 1962, 'activities': 130, 'dismantle': 955, 'critical': 794, 'component': 678, 'combat': 644, 'cause': 526, 'premature': 2313, 'due': 1011, 'increased': 1573, 'pollution': 2281, 'julia': 1685, 'child': 581, 'inspiration': 1598, 'aspiring': 271, 'chefs': 575, 'choulibiac': 589, 'recipe': 2471, 'took': 3104, 'home': 1492, 'workers': 3366, 'percent': 2218, 'fastest': 1197, 'proposed': 2369, 'restrict': 2571, 'union': 3195, 'abandoned': 91, 'heart': 1452, 'aches': 120, 'firefighter': 1240, 'battling': 349, 'mendocino': 1936, 'complex': 675, 'want': 3290, 'say': 2675, 'sonia': 2870, 'sotomayor': 2873, 'demanded': 869, 'minutes': 1970, 'board': 411, 'meetings': 1930, 'attended': 288, '1980s': 20, 'conceal': 683, 'records': 2476, 'hiding': 1475, 'actually': 132, 'hands': 1423, 'raising': 2436, 'wage': 3276, 'colleges': 637, 'universities': 3202, 'tuition': 3164, 'free': 1298, 'guaranteeing': 1408, 'everyone': 1125, 'ruled': 2636, 'fully': 1314, 'restore': 2570, 'daca': 814, 'pulling': 2399, 'rug': 2633, 'dreamers': 997, 'immoral': 1543, 'illegal': 1535, 'expand': 1141, 'collections': 635, 'efforts': 1041, 'lgbtq': 1789, 'accounted': 116, 'provided': 2388, 'alone': 193, 'reports': 2536, 'custody': 805, 'becoming': 357, 'gravely': 1388, 'ill': 1534, 'molested': 1995, 'separated': 2758, 'oversight': 2163, 'hhs': 1471, 'requested': 2546, 'national': 2039, 'archives': 255, 'plus': 2265, 'hearings': 1451, 'votes': 3271, 'stupidity': 2969, 'conceivable': 684, 'evicted': 1128, 'homes': 1496, 'rent': 2520, 'wages': 3277, 'low': 1848, 'part': 2185, 'solution': 2861, 'relief': 2510, 'pockets': 2268, 'income': 1569, 'prioritize': 2333, 'lining': 1809, 'big': 381, 'oil': 2113, 'protecting': 2378, 'rolling': 2621, 'fuel': 1309, 'economy': 1032, 'standards': 2913, 'legitimate': 1780, 'issues': 1650, 'fissures': 1247, 'provoke': 2393, 'potent': 2296, 'reactions': 2453, 'interfered': 1615, '2016': 26, 'came': 487, 'manipulated': 1870, 'provoked': 2394, 'tried': 3150, 'separating': 2759, 'repeat': 2529, 'weeks': 3322, 'implemented': 1550, 'secretary': 2710, '53': 64, 'lyndon': 1854, 'johnson': 1671, 'signed': 2823, 'creating': 786, 'medicare': 1924, 'quality': 2414, 'affordable': 163, 'something': 2866, 'missed': 1979, 'provision': 2391, 'effectively': 1038, 'eliminate': 1051, 'truckers': 3156, 'local': 1827, 'meal': 1913, 'breaks': 440, 'tacked': 3023, 'onto': 2121, 'faa': 1163, 'reauthorization': 2464, 'protected': 2377, '77': 75, 'old': 2115, 'senatortimscott': 2737, 'census': 538, 'bureau': 467, 'analysis': 214, 'adding': 137, 'citizenship': 599, 'cost': 759, 'result': 2572, 'add': 134, 'gerrymandering': 1340, 'comment': 651, 'period': 2222, 'august': 294, 'submit': 2972, 'effort': 1040, 'weaken': 3308, 'endangered': 1074, 'species': 2884, 'inhabit': 1587, 'worthy': 3375, 'protection': 2379, 'revdrbarber': 2585, 'ahead': 181, '99': 85, 'counties': 767, 'person': 2225, 'bedroom': 358, 'apartment': 235, 'folks': 1265, 'solutions': 2862, 'half': 1419, 'homeless': 1494, 'roof': 2623, 'head': 1444, 'requires': 2549, 'kept': 1699, 'subject': 2971, 'unannounced': 3178, 'inspections': 1597, 'independent': 1579, 'welfare': 3327, 'organizations': 2144, 'exactly': 1131, 'ryan': 2650, 'bounds': 432, '9th': 86, 'circuit': 595, 'backstory': 312, 'breaking': 439, '100': 2, 'practice': 2304, 'moved': 2016, 'objections': 2099, 'represent': 2538, 'appointed': 241, 'intelligence': 1609, '2018': 28, 'foreign': 1278, 'attackers': 284, 'defend': 857, 'andrew': 216, 'oldham': 2116, 'four': 1290, 'discrimination': 947, 'exists': 1140, 'bench': 371, 'beautiful': 354, 'cheer': 574, 'staffers': 2905, 'doug': 988, 'softball': 2857, 'game': 1326, 'known': 1719, 'knows': 1720, 'appreciate': 244, 'candor': 498, 'request': 2545, 'asylum': 279, 'seekers': 2720, 'ports': 2286, 'entry': 1096, 'legally': 1776, 'apply': 240, 'department': 884, 'makes': 1864, 'nearly': 2052, 'impossible': 1556, 'domestic': 980, 'gang': 1327, 'implementing': 1551, 'potentially': 2298, 'thousands': 3078, 'turned': 3167, 'plead': 2259, 'refusing': 2494, 'certain': 546, 'crushed': 798, 'student': 2964, 'debt': 836, 'studies': 2966, 'hit': 1485, 'hardest': 1434, 'senwarren': 2755, 'calling': 485, 'betsydevosed': 376, 'concrete': 690, 'disproportionate': 962, 'causing': 529, 'congratulations': 705, 'dear': 831, 'london': 1831, 'breed': 442, 'sworn': 3014, 'mayor': 1908, 'francisco': 1293, 'always': 200, 'represented': 2541, 'best': 374, 'city': 600, 'county': 773, 'historic': 1483, 'values': 3233, 'emblazoned': 1056, 'statue': 2929, 'liberty': 1791, 'tired': 3093, 'poor': 2283, 'huddled': 1514, 'masses': 1894, 'yearning': 3387, 'greatest': 1392, 'strength': 2955, 'ability': 97, 'equal': 1104, 'fourth': 1291, 'eight': 1043, 'declaration': 847, 'independence': 1578, 'reside': 2552, 'washington': 3301, 'streets': 2954, '500': 59, 'fade': 1173, 'ongoing': 2120, 'prop': 2367, 'dismissed': 956, '15': 15, 'became': 355, 'couples': 774, 'celebrating': 535, 'coming': 650, 'days': 827, 'loveislove': 1847, 'thought': 3076, 'live': 1817, 'decision': 844, 'dred': 999, 'scott': 2694, 'sandford': 2666, 'korematsu': 1725, 'standwithmuslims': 2916, 'nomuslimbanever': 2079, 'muslim': 2030, 'religion': 2511, 'uphold': 3218, 'shameful': 2788, 'built': 462, 'upon': 3219, 'promise': 2363, 'faiths': 1181, 'welcome': 3324, 'shores': 2806, 'utter': 3228, 'failure': 1176, 'abdication': 94, 'visited': 3259, 'otay': 2145, 'mesa': 1943, 'facility': 1169, 'farm': 1192, 'overtime': 2165, 'basic': 344, 'fairness': 1179, 'fled': 1256, 'murder': 2027, 'capitals': 504, 'treating': 3139, 'pose': 2287, 'member': 1931, 'transnational': 3130, 'finished': 1237, 'touring': 3112, 'phones': 2233, 'cameras': 488, 'inside': 1593, 'visit': 3258, 'young': 3395, 'five': 1248, 'diego': 918, 'updates': 3216, 'learn': 1764, 'goes': 1361, 'call': 483, 'committed': 659, 'met': 1945, 'representatives': 2540, 'amarch4ourlives': 203, 'team': 3043, 'charlie': 567, 'matt': 1899, 'nationwide': 2045, 'tour': 3111, 'stops': 2946, 'optimistic': 2137, 'pulse': 2400, '49': 54, 'tell': 3049, 'unite': 3199, 'honorthemwithaction': 1501, 'repeal': 2527, 'netneutrality': 2062, 'democrats': 876, 'save': 2671, 'net': 2061, 'neutrality': 2063, 'representative': 2539, 'internet': 1618, 'failed': 1174, 'puerto': 2398, 'rico': 2596, 'wake': 3280, 'counting': 768, 'fatalities': 1199, 'disasters': 938, 'happen': 1425, 'within': 3351, 'quantum': 2415, 'computing': 682, 'technological': 3047, 'frontier': 1308, 'adequate': 141, 'research': 2551, 'coordination': 743, 'risk': 2608, 'falling': 1184, 'behind': 363, 'cyberspace': 812, 'create': 784, 'entity': 1095, 'development': 912, 'science': 2690, 'corruption': 754, 'mismanagement': 1976, 'plain': 2245, 'simple': 2831, 'pruitt': 2395, 'resign': 2555, 'fired': 1239, 'group': 1403, 'choose': 587, 'drinking': 1002, 'putting': 2412, 'food': 1269, 'table': 3022, 'affordability': 162, 'rising': 2607, 'sewer': 2780, 'metoo': 1947, 'conversation': 737, 'meaningful': 1915, 'courageous': 776, 'enter': 1092, 'workplace': 3369, 'empower': 1062, 'marijuana': 1879, 'priority': 2334, 'violent': 3253, 'crimes': 790, 'somebody': 2864, 'smoking': 2852, 'joint': 1675, 'street': 2953, 'overstate': 2164, 'importance': 1554, 'complete': 671, 'battles': 348, 'advocating': 155, 'capitol': 505, 'told': 3098, 'promised': 2364, 'enact': 1067, 'commonsense': 662, 'advanced': 150, 'wendy': 3331, 'vitter': 3261, 'endorse': 1081, 'brown': 456, 'works': 3370, 'professionals': 2352, 'vital': 3260, 'contributions': 734, 'effective': 1037, 'mass': 1892, 'transit': 3128, 'roads': 2613, 'bridges': 444, 'introduce': 1625, 'resolution': 2558, 'jiminhofe': 1665, 'designate': 895, 'launching': 1750, 'direct': 929, 'attack': 282, 'planned': 2251, 'parenthood': 2180, 'healthcare': 1447, 'screenings': 2698, 'birth': 392, 'checkups': 573, 'shouting': 2810, 'grieving': 1400, 'santa': 2667, 'fe': 1208, 'starts': 2922, 'passing': 2196, 'common': 661, 'sense': 2749, 'majority': 1862, 'silence': 2826, 'suffice': 2983, 'gina': 1347, 'haspel': 1440, 'cia': 594, 'director': 932, 'torture': 3109, 'lead': 1758, 'unequivocally': 3190, 'tomorrow': 3101, 'roll': 2620, 'sleeves': 2846, 'poses': 2289, 'grave': 1387, 'planet': 2250, 'abundantly': 104, 'tackle': 3024, 'governments': 1377, 'stated': 2924, 'based': 343, 'lack': 1730, 'transparency': 3131, 'workforce': 3367, 'countries': 770, 'abroad': 101, 'interests': 1613, 'stacking': 2903, 'deck': 846, 'cosponsor': 757, 'sensanders': 2748, 'wildfire': 3341, 'preparedness': 2315, 'chipping': 585, 'project': 2361, 'near': 2051, 'society': 2856, 'courage': 775, 'plans': 2252, 'shrink': 2813, 'bears': 352, 'ears': 1025, 'grand': 1381, 'staircase': 2909, 'escalante': 1110, 'monuments': 2006, 'courts': 778, 'lands': 1736, 'limit': 1802, 'schedule': 2683, 'constituents': 718, 'epidemic': 1103, 'impacting': 1546, 'pharma': 2231, 'lobbyists': 1826, 'billion': 385, 'recently': 2470, '4th': 57, 'tuesday': 3163, 'september': 2761, 'prescription': 2317, 'costs': 760, 'skyrocketing': 2843, 'shortages': 2808, 'increases': 1574, 'helped': 1463, 'prevent': 2324, 'fda': 1207, 'barbara': 340, 'flanagan': 1253, 'dad': 815, 'started': 2920, 'twin': 3170, 'columnists': 643, 'cities': 597, 'fun': 1315, 'hosting': 1506, 'downtown': 990, 'council': 762, 'miss': 1978, 'ncaa': 2050, 'final': 1229, 'minneapolis': 1967, '2022': 30, 'looking': 1836, 'welcoming': 3326, 'accomplished': 111, 'athletes': 280, 'amyklobuchar': 213, 'rod': 2617, 'rosenstein': 2624, 'concerned': 686, 'overseeing': 2162, 'cyber': 810, 'attacked': 283, 'maddow': 1857, 'tonight': 3102, 'talking': 3033, 'rachel': 2425, 'brief': 445, 'clip': 619, 'whole': 3338, 'outrageous': 2151, 'prosecutor': 2373, 'close': 620, 'digital': 922, 'divide': 971, 'understand': 3188, 'broadband': 450, 'available': 302, 'sencapito': 2739, 'fcc': 1206, 'utilize': 3227, 'consumer': 722, 'feedback': 1212, 'map': 1873, 'availability': 301, 'reliable': 2509, 'fast': 1196, 'service': 2770, 'joined': 1673, 'minnesota': 1968, 'alzheimer': 201, 'association': 278, 'alzmnnd': 202, 'yearly': 3386, 'rivalz': 2611, 'football': 1272, 'awareness': 305, 'endalz': 1072, 'strong': 2961, 'field': 1222, 'daily': 817, 'trevornoah': 3142, 'early': 1022, 'mn': 1984, 'joke': 1676, 'nightclub': 2074, 'ratio': 2450, 'kicked': 1703, 'morning': 2008, 'run': 2640, 'girl': 1348, '5k': 67, 'womenwinning': 3358, 'angiecraigmn': 218, 'tinasmithmn': 3092, 'cecilerichards': 531, 'got': 1374, 'greet': 1396, 'runners': 2641, 'serving': 2773, 'troops': 3154, 'serve': 2767, '650': 71, 'mnnationalguard': 1987, 'leaving': 1769, 'month': 2003, 'deployment': 886, 'kuwait': 1727, 'thankful': 3066, 'sacrifices': 2653, 'glad': 1355, 'finally': 1230, 'write': 3379, 'perform': 2220, 'kamalaharris': 1693, 'finish': 1236, 'owed': 2170, 'proceed': 2344, 'ask': 268, 'reopen': 2522, 'vetting': 3238, 'standard': 2912, 'procedure': 2342, 'unwanted': 3213, 'robocalls': 2616, 'telemarketing': 3048, 'spoofs': 2897, 'top': 3105, 'complaint': 670, '2019': 29, 'easier': 1027, 'robocall': 2615, 'spoofing': 2896, 'violations': 3251, 'general': 1337, 'casting': 520, 'doubt': 987, 'doj': 978, 'ads': 148, 'ruling': 2639, 'shine': 2798, 'light': 1799, 'gender': 1336, 'gap': 1329, 'suffer': 2980, 'stock': 2937, 'options': 2139, 'ga': 1324, 'expressed': 1154, 'concern': 685, 'electronic': 1048, 'machines': 1856, 'hacking': 1417, 'paper': 2179, 'backups': 315, 'reason': 2461, 'improve': 1557, 'friends': 1306, 'jewish': 1662, 'yom': 3393, 'kippur': 1711, 'prosperity': 2375, 'sad': 2654, 'driving': 1004, 'car': 506, '60': 68, 'mph': 2019, 'length': 1782, 'blindfolded': 407, 'distracted': 968, 'blamed': 401, 'crash': 782, 'daughter': 824, 'minn': 1966, 'thanks': 3068, 'fergus': 1220, 'falls': 1186, 'green': 1394, 'plains': 2246, 'ethanol': 1116, 'weekend': 3320, 'discussed': 950, 'role': 2619, 'biofuels': 390, 'competitive': 669, 'playing': 2257, 'e15': 1018, 'round': 2627, 'package': 2173, 'salts': 2663, 'witnessed': 3354, 'fledged': 1257, 'ram': 2439, 'investigative': 1634, 'followup': 1268, 'gop': 1370, 'flake': 1252, 'delay': 862, 'ms': 2022, 'expect': 1143, 'investigated': 1630, 'witness': 3353, 'remaining': 2514, 'ada': 133, 'soybean': 2879, 'farmers': 1193, 'sell': 2727, 'beans': 351, 'tariffs': 3035, 'fields': 1223, 'nostalgic': 2083, 'song': 2868, 'farming': 1194, 'st': 2902, 'joseph': 1678, 'rallying': 2438, 'volunteers': 3266, 'candidate': 496, 'joeperske': 1668, 'everett': 1123, 'jim': 1663, 'lots': 1843, '89': 78, 'door': 985, 'knocker': 1714, 'irene': 1642, 'abby': 92, 'pres': 2316, 'college': 636, 'dems': 879, 'ben': 370, 'minnesotans': 1969, 'marching': 1876, 'cure': 802, 'treatment': 3140, 'invest': 1628, 'finding': 1234, 'caregiver': 510, 'poisoning': 2272, 'downing': 989, 'passenger': 2194, 'planes': 2249, 'chem': 576, 'warfare': 3296, 'prepared': 2314, 'sophisticated': 2872, 'attacking': 285, 'democracies': 872, 'russians': 2648, 'lab': 1728, 'testing': 3063, 'nerve': 2060, 'agent': 176, 'swiss': 3012, 'burn': 468, 'pits': 2240, 'headed': 1445, 'treat': 3137, 'problems': 2341, 'paris': 2182, 'agreement': 180, 'mistake': 1982, 'gives': 1353, 'citizens': 598, 'businesses': 474, 'strides': 2957, 'goals': 1360, 'port': 2285, 'duluth': 1012, 'commerce': 652, 'transportation': 3132, 'largest': 1741, 'busiest': 472, 'lakes': 1733, '1000': 3, 'ships': 2800, 'carry': 515, 'short': 2807, 'tons': 3103, 'cargo': 511, 'per': 2217, 'cityofduluth': 601, 'duluthnews': 1013, 'ag': 172, 'advocates': 154, 'mnfarmersunion': 1986, 'mnfarmbureau': 1985, 'though': 3075, 'mark': 1880, 'westpfahl': 3333, 'paul': 2205, 'born': 425, '2001': 23, 'given': 1352, 'memorable': 1933, 'lesson': 1784, 'markjwestpfahl': 1882, 'incredible': 1575, 'unsung': 3211, 'success': 2976, 'celebration': 536, 'tragedy': 3122, 'hiked': 1479, 'antibiotic': 229, '400': 51, 'requirement': 2548, 'profits': 2355, 'rx': 2649, 'drugs': 1007, 'lower': 1849, 'negotiation': 2058, 'thinking': 3074, 'south': 2876, 'carolina': 514, 'approaches': 248, 'floods': 1259, 'inland': 1591, 'heavy': 1457, 'rains': 2432, 'following': 1266, 'emergency': 1057, 'recommendations': 2473, 'suicide': 2984, 'prevention': 2325, 'serves': 2769, 'connection': 709, 'ready': 2456, 'afspnational': 170, 'stopsuicide': 2947, 'strengthen': 2956, 'ballots': 328, 'conducting': 697, 'post': 2293, 'audits': 292, 'bald': 325, 'eagle': 1019, 'swoops': 3013, 'tribute': 3148, '17': 17, 'york': 3394, 'pentagon': 2215, 'pennsylvania': 2213, 'tom': 3100, 'burnett': 470, 'jr': 1680, 'msg': 2023, 'max': 1903, 'beilke': 364, 'gordy': 1372, 'aamoth': 88, 'gary': 1330, 'koecheler': 1722, 'methane': 1946, 'voter': 3269, 'turnout': 3169, 'nationally': 2041, 'encouraging': 1070, 'investing': 1635, 'ok': 2114, 'pretty': 2323, 'funny': 1321, 'rap': 2445, 'gone': 1365, 'viral': 3254, 'social': 2854, 'media': 1921, 'yes': 3390, 'miles': 1956, 'shoreline': 2804, 'duck': 1009, 'gray': 1390, 'shakopee': 2785, 'kick': 1702, 'construction': 721, 'hwy': 1527, '169': 16, '41': 52, 'interchange': 1610, 'improving': 1559, 'jordan': 1677, 'peter': 2229, 'luck': 1851, 'vikings': 3245, 'season': 2702, 'vs': 3273, '49ers': 55, 'skol': 2841, 'used': 3223, 'overseas': 2160, 'servicemembers': 2771, 'harmful': 1436, 'substances': 2975, 'led': 1770, 'senthomtillis': 2754, 'appropriations': 250, 'fix': 1249, 'obama': 2097, 'watch': 3303, 'dissented': 967, 'wrote': 3382, 'opinion': 2128, 'unconstitutional': 3183, 'badsign': 319, 'small': 2850, 'uses': 3224, 'rich': 2594, 'wanyama': 3293, 'augsburg': 293, 'clara': 607, 'haycraft': 1443, 'constituent': 717, 'cases': 518, 'density': 880, 'key': 1701, 'focused': 1264, 'overruled': 2158, 'dissent': 966, 'strike': 2958, 'merger': 1941, 'antitrust': 230, 'opinions': 2129, 'pattern': 2204, 'fullfrontalsamb': 1313, 'watching': 3304, 'david': 825, 'wanted': 3291, 'explain': 1149, 'gravity': 1389, 'duty': 1017, 'weather': 3315, 'storm': 2949, 'ballast': 326, 'anchored': 215, '189': 19, 'pgs': 2230, 'secret': 2709, '12': 9, 'finance': 1231, 'party': 2191, 'deemed': 852, 'mnstatefair': 1988, 'abigail': 96, 'labor': 1729, 'rosie': 2625, 'riveter': 2612, 'photo': 2234, 'laid': 1732, 'hero': 1466, 'midshipmen': 1952, 'walk': 3281, 'annapolis': 220, 'chapel': 561, 'cemetery': 537, 'saluting': 2664, 'horse': 1505, 'drawn': 996, 'caisson': 481, 'went': 3332, 'decade': 838, 'major': 1861, 'mayoclinic': 1907, 'university': 3203, 'precision': 2310, 'medicine': 1927, 'opens': 2126, 'senrobportman': 2747, 'curb': 801, 'synthetic': 3016, 'amazing': 204, 'jack': 1651, 'morrow': 2009, 'selfless': 2726, 'volunteer': 3265, 'quilts': 2422, 'blankets': 402, 'newborns': 2067, '95': 82, 'sew': 2779, 'adoption': 147, 'royblunt': 2630, 'intercountry': 1611, 'booth': 422, 'ranchers': 2442, 'else': 1053, 'delegation': 863, 'executive': 1136, 'branch': 434, 'unblockthedocs': 3181, 'normal': 2081, 'bots': 430, 'misinformation': 1973, 'vaccines': 3230, 'fmr': 1262, 'firsthand': 1246, 'kidnapping': 1704, 'exploitation': 1150, 'intro': 1624, 'reauthorizing': 2465, 'nat': 2037, 'center': 539, 'missing': 1980, 'exploited': 1151, 'senjohnmccain': 2744, 'unbelievable': 3179, 'conviction': 739, 'mentor': 1938, 'remind': 2517, 'cohen': 630, 'plea': 2258, 'manafort': 1868, 'guilty': 1412, 'verdicts': 3235, 'proof': 2366, 'ranked': 2444, 'sister': 2835, 'along': 194, 'apprenticeships': 246, 'cyberattack': 811, 'happening': 1427, 'james': 1655, 'lankford': 1738, 'enemies': 1084, 'list': 1812, 'experts': 1148, 'clearances': 615, 'info': 1584, 'successors': 2979, 'regardless': 2495, 'drafts': 993, 'clearance': 614, 'cancellations': 494, 'koochiching': 1724, 'borderland': 424, 'substance': 2974, 'successful': 2977, 'connects': 710, 'addicts': 136, 'recovery': 2478, 'programs': 2358, 'learned': 1765, '565': 66, 'migrant': 1954, 'former': 1283, 'kofi': 1723, 'annan': 219, 'macalester': 1855, 'alum': 199, 'difference': 919, '300': 42, 'newspapers': 2069, 'banded': 332, 'freedom': 1300, 'press': 2321, 'fundamental': 1316, 'stands': 2915, 'unanimously': 3177, 'rural': 2643, 'commissioners': 655, 'registry': 2500, 'completion': 674, 'grow': 1405, 'queen': 2416, 'soul': 2874, 'leaves': 1768, 'wealth': 3309, 'performances': 2221, 'seeing': 2718, 'barackobama': 339, 'inauguration': 1562, 'marks': 1883, 'product': 2349, 'improvement': 1558, 'products': 2350, 'especially': 1111, 'toys': 3117, 'eliminating': 1052, 'chemicals': 578, 'measures': 1919, '72': 74, 'overdosed': 2156, '2017': 27, 'opioids': 2131, 'participating': 2187, 'sports': 2898, 'female': 1219, 'lindsay': 1804, 'whalen': 3334, 'lindsay_13': 1805, 'play': 2254, 'heroes': 1467, 'developed': 910, 'owe': 2169, 'study': 2967, 'proudly': 2386, 'wear': 3313, 'sticker': 2934, 'extraordinary': 1157, 'rapids': 2446, 'harvest': 1439, 'quite': 2423, 'shelves': 2795, 'rely': 2513, 'bank': 333, 'food4every1': 1270, 'epic': 1102, 'preseason': 2318, 'denver': 881, 'patrick': 2201, 'reusse': 2584, 'names': 2036, 'radio': 2431, 'journalist': 1679, 'star': 2918, 'tribune': 3147, 'dedication': 851, 'patrickreusse': 2202, 'gianrico': 1345, 'farrugia': 1195, 'mayo': 1906, 'globally': 1357, 'challenges': 553, 'woods': 3361, 'becomes': 356, 'ambassadors': 207, 'campers': 490, 'concordia': 689, 'language': 1737, 'villages': 3246, 'conclangvillages': 688, 'international': 1617, 'bemidji': 369, 'wonderful': 3360, 'companion': 666, 'soon': 2871, 'backup': 314, 'hacks': 1418, 'afraid': 166, 'uncover': 3184, 'withdraw': 3349, 'truly': 3158, 'false': 1187, 'gave': 1333, 'middle': 1951, 'class': 608, 'amazon': 205, 'far': 1191, 'prices': 2328, 'participate': 2186, 'holiday': 1491, 'seattle': 2704, 'clearing': 616, 'misdemeanor': 1972, 'convictions': 740, 'possession': 2290, 'prosecuted': 2372, 'legalized': 1775, 'decriminalize': 848, 'expunge': 1156, 'enablers': 1065, 'erode': 1108, 'pre': 2308, 'existing': 1139, 'jeff': 1659, 'bezos': 378, 'wealthiest': 3310, 'offer': 2103, '25': 36, 'cents': 542, 'employees': 1061, 'grossly': 1401, 'inadequate': 1560, 'decent': 841, 'benefits': 372, 'self': 2725, 'determination': 905, 'colony': 638, 'carmenyulincruz': 513, 'standing': 2914, 'opposing': 2135, 'rican': 2593, 'statehood': 2925, 'views': 3244, 'christine': 591, 'deborah': 835, 'ramirez': 2440, 'disparaging': 959, 'respect': 2562, 'refuses': 2493, 'consideration': 714, 'postpone': 2295, 'conducted': 696, 'tax': 3036, 'billionaires': 387, 'large': 1739, 'corporations': 748, 'cut': 807, 'struggling': 2963, 'seniors': 2743, 'disabilities': 934, 'phrma': 2235, 'lobbying': 1824, 'saving': 2673, 'example': 1133, 'legislative': 1779, 'affairs': 156, 'lobbyist': 1825, 'arms': 263, 'manufacturer': 1871, 'raytheon': 2451, 'billionaire': 386, 'devastation': 908, 'yemen': 3389, 'poorest': 2284, 'east': 1028, 'statement': 2926, 'discredit': 946, 'sexist': 2781, 'ignorance': 1531, 'allegation': 187, 'apple': 239, 'software': 2858, 'engineer': 1088, 'buybacks': 478, 'billions': 388, 'scam': 2679, 'reverse': 2587, 'cuts': 808, 'essential': 1112, 'racist': 2429, 'xenophobic': 3384, 'agenda': 175, 'economic': 1030, 'advisor': 152, 'cohn': 631, 'seems': 2722, 'bit': 394, 'amnesia': 212, 'broken': 452, 'banks': 337, 'crashed': 783, '2008': 24, 'refresh': 2489, 'memory': 1934, 'scotland': 2693, 'living': 1820, 'oligarchs': 2117, 'illustrious': 1536, 'afforded': 164, 'disastrous': 939, 'pompeo': 2282, 'defense': 858, 'contractor': 731, 'involvement': 1638, 'war': 3294, 'investigate': 1629, 'mislead': 1974, 'hurricanemaria': 1524, 'suffering': 2982, 'island': 1646, 'recover': 2477, 'sustainable': 3006, 'energy': 1085, 'sign': 2821, 'order': 2141, 'deny': 882, 'contracts': 732, 'outsource': 2153, 'repdebdingell': 2526, 'leave': 1767, 'fellow': 1217, 'canada': 492, 'guarantee': 1407, 'considered': 715, 'radical': 2430, 'fringe': 1307, 'unrealistic': 3207, 'anymore': 231, 'revolution': 2590, '40': 50, 'experiencing': 1147, 'mcdonald': 1911, 'walking': 3283, 'donald': 981, 'destroy': 900, 'surprise': 3001, 'lying': 1852, 'admitted': 146, 'cutting': 809, 'scraping': 2697, 'retire': 2575, 'dignity': 923, 'disability': 935, 'century': 543, '20th': 33, 'sweatshop': 3009, 'warehouse': 3295, 'employee': 1060, 'negotiate': 2057, 'profitable': 2353, 'delta': 866, 'arguing': 260, 'relentlessly': 2508, 'transform': 3127, 'fossil': 1288, 'fuels': 1311, 'lied': 1795, 'personal': 2226, 'gain': 1325, 'single': 2834, 'worker': 3365, 'harassed': 1430, 'punished': 2402, 'bravely': 436, 'randall': 2443, 'stephenson': 2932, 'laying': 1757, 'shipping': 2799, 'authoritarian': 297, 'axis': 309, 'movement': 2017, 'mobilizes': 1990, 'vision': 3257, 'shared': 2791, 'archbishop': 254, 'canterbury': 500, 'survive': 3003, 'taxes': 3037, 'medicareforall': 1925, '70': 73, 'privilege': 2338, 'centers': 540, 'locked': 1830, 'saudi': 2669, 'killing': 1708, 'bus': 471, 'clients': 617, 'manage': 1869, 'slaughter': 2845, 'responsibly': 2568, 'supporting': 2994, 'altogether': 198, 'afghanistan': 165, 'iraq': 1639, 'places': 2242, 'wars': 3300, 'longest': 1834, 'owners': 2172, 'taxpayers': 3039, 'responsible': 2567, 'earn': 1023, 'education': 1034, 'rebuilding': 2467, 'infrastructure': 1586, 'giving': 1354, 'sky': 2842, 'crystal': 799, 'mason': 1891, 'prison': 2335, 'suppression': 2997, 'terrorist': 3058, 'authoritarianism': 298, 'inequality': 1582, 'ethnic': 1118, 'religious': 2512, 'adults': 149, 'skipping': 2840, 'worse': 3372, 'acts': 131, 'successfully': 2978, 'pushed': 2407, 'electric': 1047, 'grid': 1398, '2045': 31, 'direction': 930, 'extreme': 1158, 'wing': 3346, 'endanger': 1073, 'fraud': 1296, 'bold': 415, 'industry': 1581, 'necessary': 2053, 'riseforclimate': 2606, 'unlivable': 3204, 'degradation': 861, 'spitting': 2894, 'bodies': 413, 'dire': 928, 'reform': 2487, 'environmental': 1098, 'seat': 2703, 'walton': 3287, 'walmart': 3286, '175': 18, 'meanwhile': 1918, 'pays': 2210, 'forced': 1274, 'depend': 885, 'assistance': 277, 'treats': 3141, 'hires': 1481, 'temporary': 3051, 'staffing': 2906, 'integrity': 1607, 'hourly': 1510, 'largely': 1740, 'honestly': 1497, 'global': 1356, 'sep': 2757, '8th': 79, 'solve': 2863, 'written': 3380, 'scope': 2691, 'challenge': 552, 'confront': 703, 'unions': 3196, 'disney': 958, 'victory': 3242, 'applaud': 238, 'decency': 840, 'mine': 1961, 'jane': 1656, 'deepest': 853, 'condolences': 694, 'according': 112, 'poll': 2278, '52': 62, 'momentum': 1998, 'brilliant': 446, 'paltry': 2178, 'budgets': 459, 'buy': 477, 'guns': 1415, 'educators': 1035, 'books': 420, 'computers': 681, 'raises': 2435, 'opposes': 2134, 'koch': 1721, 'brothers': 454, 'funded': 1317, 'mercatus': 1939, 'might': 1953, 'revealed': 2586, 'trillion': 3151, 'numbers': 2092, 'lie': 1794, 'picked': 2237, 'indicted': 1580, 'deposed': 887, 'imagine': 1537, 'kill': 1706, 'epa': 1099, 'saddled': 2655, 'insurmountable': 1605, 'unnoticed': 3205, 'extremely': 1159, 'grandchildren': 1382, 'overturn': 2166, 'convicted': 738, 'jail': 1653, 'celebrate': 533, 'entertainers': 1093, 'modern': 1993, 'forgotten': 1281, 'handled': 1422, 'zinke': 3399, 'reality': 2459, 'destroying': 901, 'tens': 3053, 'countless': 769, 'protesting': 2382, 'supremacy': 2998, 'neo': 2059, 'naziism': 2048, 'heather': 1455, 'heyer': 1470, 'recommitting': 2474, 'forms': 1285, 'racism': 2428, 'bigotry': 383, 'events': 1121, 'described': 890, 'julie': 1686, 'swetnick': 3011, 'wrenching': 3378, 'revolting': 2589, 'realdonaldtrump': 2458, 'wealthy': 3311, 'connected': 708, 'gets': 1343, 'mobility': 1989, 'inclusive': 1568, 'chances': 557, 'investments': 1636, 'localities': 1828, 'scrap': 2696, 'zoning': 3400, 'housing': 1513, 'expensive': 1144, 'helps': 1465, 'homebuyers': 1493, 'formerly': 1284, 'redlined': 2482, 'offers': 2104, 'monthly': 2004, 'rents': 2521, '10k': 5, 'richest': 2595, 'deficit': 859, 'decades': 839, 'excluded': 1134, 'blacks': 398, 'homeownership': 1495, 'everywhere': 1127, 'shield': 2797, 'hurricanes': 1525, 'irma': 1643, 'displaced': 961, 'effects': 1039, 'usvi': 3226, 'corps': 749, 'penalize': 2212, 'buying': 479, 'accessing': 108, 'vast': 3234, 'resignation': 2556, 'firing': 1243, 'brings': 448, 'closer': 621, 'blocked': 409, 'bullied': 464, 'plow': 2264, 'holding': 1489, 'misconduct': 1971, 'cover': 779, 'soldiers': 2860, '101st': 4, 'battalion': 347, 'guard': 1409, 'delivering': 865, 'hot': 1507, 'plates': 2253, 'columbia': 640, 'gas': 1331, 'merrimack': 1942, 'valley': 3231, 'explosions': 1152, 'residents': 2554, 'area': 256, 'cooking': 741, 'heating': 1456, 'repairs': 2524, 'completed': 672, 'airstrikes': 184, 'claimed': 605, 'secpompeo': 2708, 'continuing': 730, 'potential': 2297, 'sales': 2662, 'outweigh': 2154, 'innocent': 1592, 'civilians': 603, 'senmajldr': 2746, 'mcconnell': 1910, 'senategop': 2732, 'demonstrating': 878, 'late': 1743, 'shaming': 2789, 'twisting': 3171, 'knots': 1716, 'danrivera01843': 820, 'lawrence': 1755, 'mvgasfire': 2032, 'done': 983, 'dedicated': 849, 'ground': 1402, 'things': 3072, 'meantime': 1917, 'hold': 1488, 'columbiagasma': 641, 'secretaryzinke': 2712, 'opened': 2125, 'coastline': 628, 'offshore': 2110, 'drilling': 1000, 'undone': 3189, 'mining': 1964, 'regulations': 2502, 'freed': 1299, 'acres': 123, 'regulate': 2501, 'dirty': 933, 'endcorruptionnow': 1075, 'mickmulvaneyomb': 1949, 'donors': 984, 'donations': 982, 'favors': 1204, 'violated': 3248, 'served': 2768, 'thankfully': 3067, 'powmiarecognitionday': 2302, 'returned': 2580, 'dedicating': 850, 'chair': 550, 'acknowledge': 122, 'badly': 318, 'hurt': 1526, 'virgin': 3255, 'islands': 1647, '146': 12, 'marshall': 1887, 'comprehensive': 679, 'blueprint': 410, 'wellsfargo': 3330, 'tim': 3089, 'sloan': 2847, 'math': 1898, 'inappropriately': 1561, '20k': 32, 'projections': 2362, 'wells': 3329, '26k': 39, 'rebuild': 2466, 'territories': 3056, 'suffered': 2981, 'route': 2628, 'feet': 1216, 'months': 2005, 'repeatedly': 2530, 'fatality': 1200, 'receive': 2468, 'needed': 2055, 'january': 1657, 'traveled': 3136, 'saw': 2674, 'facing': 1170, 'lines': 1808, 'sick': 2815, 'drastically': 994, 'bad': 317, 'total': 3110, 'standwithrefugees': 2917, 'ex': 1130, 'possibly': 2292, 'hhsgov': 1472, 'slam': 2844, 'revolving': 2591, 'waltz': 3288, 'gov': 1375, 'lobby': 1823, 'mcdonalds': 1912, 'striking': 2959, 'protest': 2381, 'retaliation': 2574, 'reporting': 2535, 'google': 1369, 'developing': 911, 'chinese': 584, 'spy': 2900, 'capitalism': 503, 'relentless': 2507, 'focus': 1263, 'maximizing': 1904, 'shareholder': 2792, 'leads': 1763, 'abandon': 90, 'native': 2046, 'youths': 3397, '10x': 6, 'average': 303, 'lisamurkowski': 1811, 'repraulgrijalva': 2537, 'loss': 1840, 'fewer': 1221, 'mvgasfires': 2033, 'disclosure': 943, 'investors': 1637, 'encourage': 1069, 'markets': 1881, 'transition': 3129, 'cleaner': 612, 'sources': 2875, 'catastrophe': 523, 'dime': 924, 'taxpayer': 3038, 'posed': 2288, 'account': 113, 'algore': 186, 'similar': 2830, 'hand': 1420, 'follows': 1267, 'warming': 3297, 'sea': 2700, 'physical': 2236, 'assets': 275, 'shorelines': 2805, 'frequent': 1303, 'superstorms': 2990, 'interfere': 1614, 'droughts': 1005, 'higher': 1477, 'affect': 157, 'bottom': 431, 'disclose': 942, 'smart': 2851, 'decisions': 845, 'florence': 1261, 'outpouring': 2150, 'lehman': 1781, 'collapsed': 632, 'set': 2775, 'depression': 888, 'feel': 1213, 'massachusetts': 1893, 'tragic': 3123, 'happened': 1426, 'massgovernor': 1895, 'oversee': 2161, 'andrewrsorkin': 217, 'wall': 3285, 'instincts': 1602, 'start': 2919, 'executives': 1137, 'ending': 1078, 'bankers': 334, 'trade': 3118, 'pinstripe': 2239, 'suits': 2986, 'orange': 2140, 'jumpsuits': 1688, 'cfpb': 548, 'tricks': 3149, '12b': 10, 'cheated': 569, 'argued': 259, 'confirmed': 701, 'whatsatstake': 3335, 'joining': 1674, 'expandsocialsecurity': 1142, 'caucus': 524, 'lifeline': 1797, 'equifax': 1106, 'unscathed': 3209, 'compromising': 680, '148m': 14, 'markwarner': 1884, 'credit': 788, 'admin': 142, 'coalition': 627, 'bombs': 418, 'schoolchildren': 2688, 'trip': 3152, 'humanitarian': 1519, 'contribute': 733, 'concerns': 687, 'mockery': 1991, 'authority': 299, 'certification': 547, 'rubber': 2632, 'stamp': 2910, 'arabia': 253, 'spent': 2892, 'investigating': 1631, 'breach': 438, 'repcummings': 2525, 'gao': 1328, 'describes': 891, 'painful': 2177, 'detail': 902, '148': 13, 'tribal': 3144, 'sovereignty': 2878, 'screw': 2699, 'fines': 1235, 'fred_guttenberg': 1297, 'jaime': 1654, 'earlier': 1020, 'talked': 3032, 'proceeding': 2345, 'afscme': 169, 'marlboroughhospital': 1885, 'hearts': 1454, 'goodbye': 1368, 'profound': 2356, 'gratitude': 1386, 'lived': 1818, 'unwavering': 3214, 'cherish': 579, 'throw': 3085, 'punches': 2401, 'approach': 247, 'gonna': 1366, 'patriot': 2203, 'maverick': 1902, 'fighter': 1227, 'spends': 2891, 'golf': 1364, 'resorts': 2560, 'giveaways': 1351, 'buddies': 458, 'vets': 3237, 'operations': 2127, 'inspect': 1596, 'chunk': 593, 'produced': 2348, 'earned': 1024, 'franklinfoer': 1295, 'customers': 806, 'dozens': 991, 'scandals': 2680, 'plaguing': 2244, 'reassigned': 2463, 'democrat': 874, 'toe': 3096, 'siege': 2820, 'mourn': 2014, 'servant': 2765, 'disagreed': 936, 'sometimes': 2867, 'forcefully': 1275, 'respected': 2563, 'fiercely': 1224, 'devoted': 914, 'emptiness': 1063, 'struck': 2962, 'pieces': 2238, 'orders': 2142, 'greenhouse': 1395, 'emissions': 1058, 'reeks': 2484, 'coal': 626, 'epaawheeler': 1100, 'rather': 2449, 'appease': 237, 'buds': 460, '50moremass': 61, 'columbine': 642, 'grew': 1397, 'different': 920, 'endgunviolence': 1077, 'happens': 1428, 'prouder': 2385, '50more': 60, 'classrooms': 609, '92': 81, 'surveyed': 3002, 'counselors': 764, 'mental': 1937, 'barely': 342, 'nurses': 2093, 'dip': 925, 'supplies': 2991, 'limited': 1803, 'dumbest': 1014, 'distractions': 969, 'gaze': 1334, 'cabal': 480, 'africa': 167, 'disproven': 964, 'myth': 2034, 'scale': 2678, 'killings': 1709, 'continent': 726, 'discernible': 940, 'ericcantor': 1107, 'schmoozing': 2686, 'shocked': 2801, 'michael': 1948, 'pleaded': 2260, 'rep': 2523, 'duncan': 1016, 'hunter': 1521, 'misuse': 1983, 'guys': 1416, 'caught': 525, 'sweeping': 3010, 'reforms': 2488, 'flatly': 1254, 'snake': 2853, 'six': 2838, 'hire': 1480, 'sheriff': 2796, 'servants': 2766, 'enforce': 1086, 'guards': 1410, 'mall': 1866, 'code': 629, 'judges': 1682, 'trading': 3120, 'payments': 2209, 'attending': 289, 'honoraria': 1499, 'speeches': 2888, 'lavish': 1752, 'getaways': 1342, 'fancy': 1190, 'hunting': 1522, 'trips': 3153, 'justices': 1691, 'fifth': 1225, 'faith': 1180, 'ordinary': 2143, 'prosecute': 2371, 'knowingly': 1718, 'derail': 889, 'rulemaking': 2637, 'plenty': 2263, 'lawmakers': 1754, 'ds': 1008, 'rs': 2631, 'walked': 3282, 'giant': 1346, 'loopholes': 1838, 'lock': 1829, 'janusvafscme': 1658, 'gorsuch': 1373, 'funders': 1318, 'hotel': 1508, 'strip': 2960, 'sector': 2714, 'impartial': 1548, 'huh': 1517, 'fat': 1198, 'cat': 522, 'sec': 2705, 'wilbur': 3340, 'ross': 2626, 'secretaryross': 2711, 'insider': 1594, 'violating': 3249, 'conflict': 702, 'interest': 1612, 'commissioner': 654, 'meredith': 1940, 'baker': 323, 'approve': 252, 'huge': 1515, 'comcast': 647, 'resigned': 2557, 'guess': 1411, 'wonder': 3359, 'pricing': 2329, 'secazar': 2706, 'produce': 2347, 'unbiased': 3180, 'sway': 3008, 'brookings': 453, 'economist': 1031, 'authoring': 296, 'firm': 1244, 'facebook': 1165, 'microsoft': 1950, 'combined': 646, '50': 58, 'brazenly': 437, 'traded': 3119, 'misrepresented': 1977, 'disclosures': 944, 'offended': 2102, 'insinuation': 1595, 'anything': 233, 'bomb': 416, 'sold': 2859, 'saudis': 2670, 'continued': 728, 'cornerstones': 745, 'bostonglobe': 428, 'amendment': 208, 'pursue': 2405, 'freepress': 1302, 'jimcramer': 1664, 'shareholders': 2793, 'select': 2724, 'subsidize': 2973, 'dhsgov': 915, 'obligation': 2100, 'bare': 341, 'handed': 1421, 'mar': 1874, 'lago': 1731, 'cronies': 795, 'completely': 673, 'unqualified': 3206, 'unaccountable': 3176, 'goptaxscam': 1371, 'reward': 2592, 'deadly': 829, 'rally': 2437, 'occurred': 2101, 'nationalists': 2040, 'peaceful': 2211, 'virginia': 3256, 'town': 3114, 'seeking': 2721, 'division': 972, 'incite': 1565, 'minded': 1960, 'shady': 2783, '4profit': 56, 'futures': 1323, 'accomplice': 110, 'issued': 1649, 'graduating': 1380, 'debts': 837, 'prospects': 2374, 'favor': 1202, 'webster': 3316, 'dudley': 1010, 'towns': 3115, 'tornado': 3108, 'tragically': 3124, 'commission': 653, 'model': 1992, 'develop': 909, 'policies': 2274, 'repkclark': 2531, 'series': 2762, 'paygap': 2207, 'retirement': 2577, 'pensions': 2214, 'blackwomensequalpayday': 399, 'error': 1109, 'aside': 267, 'thousand': 3077, 'pathetic': 2199, 'execs': 1135, 'oversaw': 2159, 'sabotage': 2651, 'scheme': 2685, 'insurers': 1604, 'junk': 1689, 'charge': 564, 'cmte': 624, 'tmrw': 3094, 'kathy': 1694, 'kraninger': 1726, 'tear': 3044, 'addictive': 135, 'medications': 1926, 'blind': 406, 'eye': 1161, 'ceos': 545, '3d': 49, 'printed': 2332, 'blessing': 405, 'leading': 1762, 'untraceable': 3212, 'pr': 2303, 'path': 2198, 'endometriosis': 1080, 'condition': 692, 'remove': 2519, 'stigma': 2935, 'defeat': 855, 'empty': 1064, 'baltimore': 330, 'discuss': 949, 'beat': 353, 'tackled': 3025, 'hiv': 1487, 'aids': 182, 'underpins': 3187, '34': 45, 'repealing': 2528, 'puts': 2411, 'jeopardy': 1660, 'reunifying': 2581, 'ripped': 2604, 'fixed': 1250, 'inhumanity': 1589, 'staggering': 2908, 'alley': 189, 'abortions': 100, 'novartis': 2088, 'score': 2692, 'publicity': 2397, 'jacking': 1652, 'stunt': 2968, 'charges': 566, 'intel': 1608, 'agents': 177, 'boost': 421, 'favorite': 1203, 'undermine': 3185, 'cancel': 493, 'ridiculous': 2597, 'putin': 2410, 'summit': 2988, 'butt': 476, 'plane': 2248, 'shot': 2809, 'poach': 2267, 'clauses': 610, 'rig': 2599, 'chains': 549, 'ended': 1076, 'loan': 1821, 'affects': 159, 'hits': 1486, 'harder': 1433, 'senkamalaharris': 2745, 'bostonsbravest': 429, 'honored': 1500, 'celebrated': 534, 'played': 2255, 'significant': 2824, 'enabling': 1066, 'iraqi': 1640, 'forces': 1276, 'retake': 2573, 'iraqis': 1641, 'extremist': 1160, 'reemerging': 2485, 'prime': 2331, 'minister': 1965, 'al': 185, 'abadi': 89, 'defeating': 856, 'isis': 1644, 'combating': 645, 'terrorism': 3057, 'region': 2496, 'desire': 898, 'ambassador': 206, 'silliman': 2829, 'embassy': 1055, 'baghdad': 320, 'diplomats': 927, 'eyes': 1162, 'challenging': 554, 'often': 2111, 'lindseygrahamsc': 1806, 'mosul': 2012, 'controlled': 736, 'liberated': 1790, 'ruins': 2634, 'providing': 2390, 'dem': 867, 'debate': 834, 'capital': 502, 'gazette': 1335, 'bullets': 463, 'newsroom': 2070, 'active': 129, 'shooter': 2802, 'stolen': 2939, 'upheld': 3217, 'xenophobia': 3383, 'outlawing': 2149, 'chris_topher_mc': 590, 'wbsm1420': 3307, 'dads': 816, 'option': 2138, 'fathersdayofaction': 1201, '3036': 43, 'punishing': 2403, 'loans': 1822, 'taking': 3030, 'drivers': 1003, 'professional': 2351, 'licenses': 1792, 'marcorubio': 1877, 'borrowers': 426, 'sessions': 2774, 'reflect': 2486, 'true': 3157, 'search': 2701, 'compassion': 668, 'ohio': 2112, 'eligible': 1050, 'rolls': 2622, 'backwards': 316, 'officially': 2108, 'savetheinternet': 2672, 'oozes': 2122, 'epascottpruitt': 1101, 'sludge': 2849, 'burned': 469, 'sloshing': 2848, 'dc': 828, 'baloney': 329, 'freely': 1301, 'safely': 2658, 'constitution': 719, 'theruleswe': 3070, 'bailed': 322, 'ten': 3052, 'banklobbyistact': 336, 'suing': 2985, 'theft': 3069, 'fake': 1182, 'accounts': 117, 'cheating': 570, 'overcharging': 2155, 'mortgage': 2011, 'altering': 197, 'compliance': 677, 'laundering': 1751, 'att': 281, 'secretly': 2713, 'return': 2579, 'grade': 1378, 'mrs': 2021, 'lee': 1771, 'teaching': 3042, 'thankateacher': 3065, 'notinvisible': 2085, 'plague': 2243, 'boston': 427, 'marathon': 1875, 'bombing': 417, 'grieved': 1399, 'islamic': 1645, 'mike': 1955, 'scapegoat': 2681, 'allies': 190, 'stoppompeo': 2945, 'diplomacy': 926, 'mashpee': 1889, 'wampanoag': 3289, 'tribe': 3145, 'particularly': 2188, 'careact': 508, '800m': 77, 'tribes': 3146, 'nationalschoolwalkout': 2042, 'gunreformnow': 1414, 'sentedcruz': 2753, 'designating': 896, 'retiree': 2576, 'appreciation': 245, 'acted': 126, 'authorize': 300, 'syria': 3017, 'seek': 2719, 'approval': 251, 'strategy': 2952, 'achieve': 121, 'chemical': 577, 'horrifying': 1504, 'violation': 3250, 'assad': 272, 'syrian': 3018, 'coordinated': 742, 'multilateral': 2026}\n"
     ]
    }
   ],
   "source": [
    "print(vectorizer.vocabulary_)"
   ]
  },
  {
   "cell_type": "markdown",
   "metadata": {},
   "source": [
    "\n",
    "We can print the matrix, too.  It reads as follows:  \n",
    "\n",
    "    (document index, vocabulary index)     frequency\n",
    "\n",
    "For example, consider the sixth row.  In tweet index 0, the word associated with the vocabulary index 2076 is found twice.  That word is \"nomination.\"\n"
   ]
  },
  {
   "cell_type": "code",
   "execution_count": 13,
   "metadata": {},
   "outputs": [
    {
     "name": "stdout",
     "output_type": "stream",
     "text": [
      "  (0, 2020)\t1\n",
      "  (0, 2320)\t1\n",
      "  (0, 1090)\t1\n",
      "  (0, 2999)\t1\n",
      "  (0, 777)\t1\n",
      "  (0, 2076)\t2\n",
      "  (0, 3374)\t1\n",
      "  (0, 1819)\t1\n",
      "  (0, 3005)\t1\n",
      "  (0, 2031)\t2\n",
      "  (0, 1312)\t1\n",
      "  (0, 1632)\t1\n",
      "  (0, 188)\t1\n",
      "  (0, 791)\t1\n",
      "  (0, 362)\t1\n",
      "  (0, 1681)\t1\n",
      "  (0, 1695)\t1\n",
      "  (0, 3350)\t1\n",
      "  (1, 3064)\t1\n",
      "  (1, 883)\t1\n",
      "  (1, 2944)\t1\n",
      "  (1, 2730)\t1\n",
      "  (1, 3095)\t1\n",
      "  (1, 153)\t1\n",
      "  (1, 433)\t1\n",
      "  :\t:\n",
      "  (455, 251)\t1\n",
      "  (455, 2952)\t1\n",
      "  (455, 121)\t1\n",
      "  (456, 2031)\t1\n",
      "  (456, 613)\t1\n",
      "  (456, 286)\t1\n",
      "  (456, 3252)\t1\n",
      "  (456, 3220)\t1\n",
      "  (456, 3371)\t1\n",
      "  (456, 2216)\t1\n",
      "  (456, 115)\t1\n",
      "  (456, 1753)\t1\n",
      "  (456, 2185)\t1\n",
      "  (456, 1040)\t1\n",
      "  (456, 2251)\t1\n",
      "  (456, 1617)\t1\n",
      "  (456, 1488)\t1\n",
      "  (456, 3017)\t1\n",
      "  (456, 577)\t1\n",
      "  (456, 1504)\t1\n",
      "  (456, 3250)\t1\n",
      "  (456, 272)\t1\n",
      "  (456, 3018)\t1\n",
      "  (456, 742)\t1\n",
      "  (456, 2026)\t1\n"
     ]
    }
   ],
   "source": [
    "print(tfmatrix)"
   ]
  },
  {
   "cell_type": "markdown",
   "metadata": {},
   "source": [
    "### Train the Model"
   ]
  },
  {
   "cell_type": "code",
   "execution_count": 14,
   "metadata": {},
   "outputs": [],
   "source": [
    "# Create training and testing set\n",
    "X_train, X_test, y_train, y_test = train_test_split(tfmatrix, target, test_size=0.3, random_state=0)"
   ]
  },
  {
   "cell_type": "code",
   "execution_count": 15,
   "metadata": {},
   "outputs": [
    {
     "data": {
      "text/plain": [
       "MultinomialNB(alpha=1.0, class_prior=None, fit_prior=True)"
      ]
     },
     "execution_count": 15,
     "metadata": {},
     "output_type": "execute_result"
    }
   ],
   "source": [
    "# Initialize the model\n",
    "classifier = MultinomialNB()\n",
    "\n",
    "# Fit the model on training data\n",
    "classifier.fit(X_train, y_train)"
   ]
  },
  {
   "cell_type": "markdown",
   "metadata": {},
   "source": [
    "### Predict on Testing Data"
   ]
  },
  {
   "cell_type": "code",
   "execution_count": 17,
   "metadata": {},
   "outputs": [
    {
     "data": {
      "text/plain": [
       "2"
      ]
     },
     "execution_count": 17,
     "metadata": {},
     "output_type": "execute_result"
    }
   ],
   "source": [
    "# transform the testing data and predict\n",
    "y_test_predict = classifier.predict(X_test)\n",
    "\n",
    "# Print the predicted label for the first item in the testing data.  \n",
    "# The prediction is that this tweet belongs to the Sentaor whose index is 2.\n",
    "y_test_predict[0]"
   ]
  },
  {
   "cell_type": "code",
   "execution_count": 18,
   "metadata": {},
   "outputs": [
    {
     "data": {
      "text/plain": [
       "'SenHarris'"
      ]
     },
     "execution_count": 18,
     "metadata": {},
     "output_type": "execute_result"
    }
   ],
   "source": [
    "# Index 2 belongs to:\n",
    "labels[2]"
   ]
  },
  {
   "cell_type": "code",
   "execution_count": 19,
   "metadata": {},
   "outputs": [
    {
     "name": "stdout",
     "output_type": "stream",
     "text": [
      "The accuracy of the model is: 0.5072463768115942\n"
     ]
    }
   ],
   "source": [
    "# Test model accuracy\n",
    "print('The accuracy of the model is: ' + str(classifier.score(X_test, y_test)))"
   ]
  },
  {
   "cell_type": "markdown",
   "metadata": {},
   "source": [
    "The model accuracy is low.  Why?  The model as set up is very simple.  A more complex version that takes into account the length of a tweet or other features might do better.  Additionally, the data are very similar for each Senator because they were all tweeting about current news."
   ]
  },
  {
   "cell_type": "code",
   "execution_count": null,
   "metadata": {},
   "outputs": [],
   "source": []
  }
 ],
 "metadata": {
  "kernelspec": {
   "display_name": "Python 3",
   "language": "python",
   "name": "python3"
  },
  "language_info": {
   "codemirror_mode": {
    "name": "ipython",
    "version": 3
   },
   "file_extension": ".py",
   "mimetype": "text/x-python",
   "name": "python",
   "nbconvert_exporter": "python",
   "pygments_lexer": "ipython3",
   "version": "3.7.4"
  }
 },
 "nbformat": 4,
 "nbformat_minor": 2
}
